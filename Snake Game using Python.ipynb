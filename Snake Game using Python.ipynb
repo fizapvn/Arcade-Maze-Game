{
 "cells": [
  {
   "cell_type": "markdown",
   "metadata": {},
   "source": [
    "# Snake Game using Python"
   ]
  },
  {
   "cell_type": "markdown",
   "metadata": {},
   "source": [
    "## Importing libraries"
   ]
  },
  {
   "cell_type": "code",
   "execution_count": 11,
   "metadata": {},
   "outputs": [],
   "source": [
    "import turtle         \n",
    "import random\n",
    "import time"
   ]
  },
  {
   "cell_type": "markdown",
   "metadata": {},
   "source": [
    "## initial states"
   ]
  },
  {
   "cell_type": "code",
   "execution_count": 12,
   "metadata": {},
   "outputs": [],
   "source": [
    "delay = 0.1\n",
    "score = 0\n",
    "highestscore = 0"
   ]
  },
  {
   "cell_type": "markdown",
   "metadata": {},
   "source": [
    "## snake bodies"
   ]
  },
  {
   "cell_type": "code",
   "execution_count": 13,
   "metadata": {},
   "outputs": [],
   "source": [
    "bodies = []"
   ]
  },
  {
   "cell_type": "markdown",
   "metadata": {},
   "source": [
    "\n",
    "## getting a screen / canvas"
   ]
  },
  {
   "cell_type": "code",
   "execution_count": 14,
   "metadata": {},
   "outputs": [],
   "source": [
    "sc = turtle.Screen()\n",
    "sc.title(\"Snake Game\")\n",
    "sc.bgcolor(\"black\")\n",
    "sc.setup(width=600,height=600)"
   ]
  },
  {
   "cell_type": "markdown",
   "metadata": {},
   "source": [
    "## creating a snake head"
   ]
  },
  {
   "cell_type": "code",
   "execution_count": 15,
   "metadata": {},
   "outputs": [],
   "source": [
    "head = turtle.Turtle()\n",
    "head.speed(0)\n",
    "head.shape(\"square\")\n",
    "head.color(\"white\")\n",
    "head.penup() #so when turtle move nothing is drawn\n",
    "head.goto(0,0) #starting position of snake\n",
    "head.direction = \"stop\""
   ]
  },
  {
   "cell_type": "markdown",
   "metadata": {},
   "source": [
    "## creating snake food"
   ]
  },
  {
   "cell_type": "code",
   "execution_count": 6,
   "metadata": {},
   "outputs": [],
   "source": [
    "food = turtle.Turtle()\n",
    "food.speed(0)\n",
    "food.shape('square')\n",
    "food.color(\"white\")\n",
    "food.penup()\n",
    "food.ht()         #to not show the turtle until you want it\n",
    "food.goto(0,200)\n",
    "food.st()"
   ]
  },
  {
   "cell_type": "markdown",
   "metadata": {},
   "source": [
    "## creating scoreboard"
   ]
  },
  {
   "cell_type": "code",
   "execution_count": 7,
   "metadata": {},
   "outputs": [],
   "source": [
    "sb = turtle.Turtle()\n",
    "sb.shape(\"square\")\n",
    "sb.color(\"gray\")\n",
    "sb.penup()\n",
    "sb.ht()\n",
    "sb.goto(-250,-250)\n",
    "sb.write(\"Score:0    |    Highest Score:0\")"
   ]
  },
  {
   "cell_type": "markdown",
   "metadata": {},
   "source": [
    "## create function to move snake"
   ]
  },
  {
   "cell_type": "code",
   "execution_count": 8,
   "metadata": {},
   "outputs": [],
   "source": [
    "def moveup():\n",
    "    if head.direction != \"down\":\n",
    "        head.direction = \"up\"\n",
    "def movedown():        \n",
    "    if head.direction != \"up\":\n",
    "        head.direction = \"down\"\n",
    "def moveright():        \n",
    "    if head.direction != \"left\":\n",
    "        head.direction = \"right\"\n",
    "def moveleft():       \n",
    "    if head.direction != \"right\":\n",
    "        head.direction = \"left\"\n",
    "def movestop():\n",
    "    head.direction = \"stop\"\n",
    "\n",
    "def move():\n",
    "    if head.direction==\"up\":\n",
    "        y=head.ycor()\n",
    "        head.sety(y+20)\n",
    "    if head.direction==\"down\":\n",
    "        y=head.ycor()\n",
    "        head.setx(y-20)\n",
    "    if head.direction==\"left\":\n",
    "        x=head.xcor()\n",
    "        head.setx(x-20)\n",
    "    if head.direction==\"right\":\n",
    "        x=head.xcor()\n",
    "        head.setx(x+20)"
   ]
  },
  {
   "cell_type": "markdown",
   "metadata": {},
   "source": [
    "## event handling - key mapping"
   ]
  },
  {
   "cell_type": "code",
   "execution_count": 9,
   "metadata": {},
   "outputs": [],
   "source": [
    "sc.listen()\n",
    "sc.onkey(moveup,\"w\")\n",
    "sc.onkey(movedown,\"s\")\n",
    "sc.onkey(moveleft,\"a\")\n",
    "sc.onkey(moveright,\"d\")\n",
    "sc.onkey(movestop,\"space\")"
   ]
  },
  {
   "cell_type": "markdown",
   "metadata": {},
   "source": [
    "## main loop"
   ]
  },
  {
   "cell_type": "code",
   "execution_count": 16,
   "metadata": {},
   "outputs": [
    {
     "ename": "Terminator",
     "evalue": "",
     "output_type": "error",
     "traceback": [
      "\u001b[1;31m---------------------------------------------------------------------------\u001b[0m",
      "\u001b[1;31mTerminator\u001b[0m                                Traceback (most recent call last)",
      "\u001b[1;32m<ipython-input-16-6d0fb188ccd0>\u001b[0m in \u001b[0;36m<module>\u001b[1;34m\u001b[0m\n\u001b[0;32m      1\u001b[0m \u001b[1;32mwhile\u001b[0m \u001b[1;32mTrue\u001b[0m\u001b[1;33m:\u001b[0m\u001b[1;33m\u001b[0m\u001b[1;33m\u001b[0m\u001b[0m\n\u001b[1;32m----> 2\u001b[1;33m     \u001b[0msc\u001b[0m\u001b[1;33m.\u001b[0m\u001b[0mupdate\u001b[0m\u001b[1;33m(\u001b[0m\u001b[1;33m)\u001b[0m       \u001b[1;31m#this is to update the screen\u001b[0m\u001b[1;33m\u001b[0m\u001b[1;33m\u001b[0m\u001b[0m\n\u001b[0m\u001b[0;32m      3\u001b[0m \u001b[1;33m\u001b[0m\u001b[0m\n\u001b[0;32m      4\u001b[0m     \u001b[1;31m#check collision with border - there will be no collision, snake will appear from the opposite border\u001b[0m\u001b[1;33m\u001b[0m\u001b[1;33m\u001b[0m\u001b[1;33m\u001b[0m\u001b[0m\n\u001b[0;32m      5\u001b[0m     \u001b[1;32mif\u001b[0m \u001b[0mhead\u001b[0m\u001b[1;33m.\u001b[0m\u001b[0mxcor\u001b[0m\u001b[1;33m(\u001b[0m\u001b[1;33m)\u001b[0m\u001b[1;33m>\u001b[0m\u001b[1;36m290\u001b[0m\u001b[1;33m:\u001b[0m\u001b[1;33m\u001b[0m\u001b[1;33m\u001b[0m\u001b[0m\n",
      "\u001b[1;32m~\\anaconda3\\lib\\turtle.py\u001b[0m in \u001b[0;36mupdate\u001b[1;34m(self)\u001b[0m\n\u001b[0;32m   1302\u001b[0m         \u001b[0mself\u001b[0m\u001b[1;33m.\u001b[0m\u001b[0m_tracing\u001b[0m \u001b[1;33m=\u001b[0m \u001b[1;32mTrue\u001b[0m\u001b[1;33m\u001b[0m\u001b[1;33m\u001b[0m\u001b[0m\n\u001b[0;32m   1303\u001b[0m         \u001b[1;32mfor\u001b[0m \u001b[0mt\u001b[0m \u001b[1;32min\u001b[0m \u001b[0mself\u001b[0m\u001b[1;33m.\u001b[0m\u001b[0mturtles\u001b[0m\u001b[1;33m(\u001b[0m\u001b[1;33m)\u001b[0m\u001b[1;33m:\u001b[0m\u001b[1;33m\u001b[0m\u001b[1;33m\u001b[0m\u001b[0m\n\u001b[1;32m-> 1304\u001b[1;33m             \u001b[0mt\u001b[0m\u001b[1;33m.\u001b[0m\u001b[0m_update_data\u001b[0m\u001b[1;33m(\u001b[0m\u001b[1;33m)\u001b[0m\u001b[1;33m\u001b[0m\u001b[1;33m\u001b[0m\u001b[0m\n\u001b[0m\u001b[0;32m   1305\u001b[0m             \u001b[0mt\u001b[0m\u001b[1;33m.\u001b[0m\u001b[0m_drawturtle\u001b[0m\u001b[1;33m(\u001b[0m\u001b[1;33m)\u001b[0m\u001b[1;33m\u001b[0m\u001b[1;33m\u001b[0m\u001b[0m\n\u001b[0;32m   1306\u001b[0m         \u001b[0mself\u001b[0m\u001b[1;33m.\u001b[0m\u001b[0m_tracing\u001b[0m \u001b[1;33m=\u001b[0m \u001b[0mtracing\u001b[0m\u001b[1;33m\u001b[0m\u001b[1;33m\u001b[0m\u001b[0m\n",
      "\u001b[1;32m~\\anaconda3\\lib\\turtle.py\u001b[0m in \u001b[0;36m_update_data\u001b[1;34m(self)\u001b[0m\n\u001b[0;32m   2645\u001b[0m \u001b[1;33m\u001b[0m\u001b[0m\n\u001b[0;32m   2646\u001b[0m     \u001b[1;32mdef\u001b[0m \u001b[0m_update_data\u001b[0m\u001b[1;33m(\u001b[0m\u001b[0mself\u001b[0m\u001b[1;33m)\u001b[0m\u001b[1;33m:\u001b[0m\u001b[1;33m\u001b[0m\u001b[1;33m\u001b[0m\u001b[0m\n\u001b[1;32m-> 2647\u001b[1;33m         \u001b[0mself\u001b[0m\u001b[1;33m.\u001b[0m\u001b[0mscreen\u001b[0m\u001b[1;33m.\u001b[0m\u001b[0m_incrementudc\u001b[0m\u001b[1;33m(\u001b[0m\u001b[1;33m)\u001b[0m\u001b[1;33m\u001b[0m\u001b[1;33m\u001b[0m\u001b[0m\n\u001b[0m\u001b[0;32m   2648\u001b[0m         \u001b[1;32mif\u001b[0m \u001b[0mself\u001b[0m\u001b[1;33m.\u001b[0m\u001b[0mscreen\u001b[0m\u001b[1;33m.\u001b[0m\u001b[0m_updatecounter\u001b[0m \u001b[1;33m!=\u001b[0m \u001b[1;36m0\u001b[0m\u001b[1;33m:\u001b[0m\u001b[1;33m\u001b[0m\u001b[1;33m\u001b[0m\u001b[0m\n\u001b[0;32m   2649\u001b[0m             \u001b[1;32mreturn\u001b[0m\u001b[1;33m\u001b[0m\u001b[1;33m\u001b[0m\u001b[0m\n",
      "\u001b[1;32m~\\anaconda3\\lib\\turtle.py\u001b[0m in \u001b[0;36m_incrementudc\u001b[1;34m(self)\u001b[0m\n\u001b[0;32m   1291\u001b[0m         \u001b[1;32mif\u001b[0m \u001b[1;32mnot\u001b[0m \u001b[0mTurtleScreen\u001b[0m\u001b[1;33m.\u001b[0m\u001b[0m_RUNNING\u001b[0m\u001b[1;33m:\u001b[0m\u001b[1;33m\u001b[0m\u001b[1;33m\u001b[0m\u001b[0m\n\u001b[0;32m   1292\u001b[0m             \u001b[0mTurtleScreen\u001b[0m\u001b[1;33m.\u001b[0m\u001b[0m_RUNNING\u001b[0m \u001b[1;33m=\u001b[0m \u001b[1;32mTrue\u001b[0m\u001b[1;33m\u001b[0m\u001b[1;33m\u001b[0m\u001b[0m\n\u001b[1;32m-> 1293\u001b[1;33m             \u001b[1;32mraise\u001b[0m \u001b[0mTerminator\u001b[0m\u001b[1;33m\u001b[0m\u001b[1;33m\u001b[0m\u001b[0m\n\u001b[0m\u001b[0;32m   1294\u001b[0m         \u001b[1;32mif\u001b[0m \u001b[0mself\u001b[0m\u001b[1;33m.\u001b[0m\u001b[0m_tracing\u001b[0m \u001b[1;33m>\u001b[0m \u001b[1;36m0\u001b[0m\u001b[1;33m:\u001b[0m\u001b[1;33m\u001b[0m\u001b[1;33m\u001b[0m\u001b[0m\n\u001b[0;32m   1295\u001b[0m             \u001b[0mself\u001b[0m\u001b[1;33m.\u001b[0m\u001b[0m_updatecounter\u001b[0m \u001b[1;33m+=\u001b[0m \u001b[1;36m1\u001b[0m\u001b[1;33m\u001b[0m\u001b[1;33m\u001b[0m\u001b[0m\n",
      "\u001b[1;31mTerminator\u001b[0m: "
     ]
    }
   ],
   "source": [
    "while True:\n",
    "    sc.update()       #this is to update the screen\n",
    "    \n",
    "    #check collision with border - there will be no collision, snake will appear from the opposite border\n",
    "    if head.xcor()>290:\n",
    "        head.setx(-290)\n",
    "    if head.xcor()<-290:\n",
    "        head.setx(290)\n",
    "    if head.ycor()>290:\n",
    "        head.sety(-290)\n",
    "    if head.ycor()<-290:\n",
    "        head.sety(290)\n",
    "    \n",
    "        \n",
    "    #check collision with food\n",
    "    if head.distance(food)<20:\n",
    "        #move the food to new random place\n",
    "        x = random.randint(-290,290)\n",
    "        y = random.randint(-290,290)\n",
    "        food.goto(x,y)\n",
    "        \n",
    "        #increase the length of the body of snake\n",
    "        body = turtle.Turtle()\n",
    "        body.speed(0)\n",
    "        body.penup()\n",
    "        body.shape(\"square\")\n",
    "        body.color(\"white\")\n",
    "        bodies.append(body)   #append new body to the previosly created list\n",
    "        \n",
    "        #increase the score\n",
    "        score+=10\n",
    "        \n",
    "        #change delay time\n",
    "        delay-=0.001\n",
    "        \n",
    "        #update the highest score\n",
    "        if score>highestscore:\n",
    "            highestscore=score\n",
    "        sb.clear()\n",
    "        sb.write(\"Score:    |    Highest Score:\".format())\n",
    "    \n",
    "    #move the snake body\n",
    "    for index in range(len(bodies)-1,0,-1):\n",
    "        x=bodies[index-1].xcor()\n",
    "        y=bodies[index-1].ycor()\n",
    "        bodies[index].goto(x,y)\n",
    "    \n",
    "    if len(bodies)>0:\n",
    "        x=head.xcor()\n",
    "        y=head.ycor()\n",
    "        bodies[0].goto(x,y)\n",
    "    move()\n",
    "    \n",
    "    \n",
    "    #check collision with snake body\n",
    "    for body in bodies:\n",
    "        if body.distance(head)<20:\n",
    "            time.sleep(1)\n",
    "            head.goto(0,0)\n",
    "            head.direction=\"stop\"\n",
    "            \n",
    "            #hide bodies\n",
    "            for body in bodies:\n",
    "                body.ht()\n",
    "                bodies.clear()\n",
    "                \n",
    "        score=0\n",
    "        delay=0.1\n",
    "        \n",
    "        \n",
    "        #update score board\n",
    "        sb.clear()\n",
    "        sb.write(\"Score:    |    Highest Score:\".format())\n",
    "    time.sleep(delay) \n",
    "sc.mainloop()\n",
    "#this is the end of our snake game\n",
    "            \n",
    "        "
   ]
  },
  {
   "cell_type": "code",
   "execution_count": null,
   "metadata": {},
   "outputs": [],
   "source": []
  }
 ],
 "metadata": {
  "kernelspec": {
   "display_name": "Python 3",
   "language": "python",
   "name": "python3"
  },
  "language_info": {
   "codemirror_mode": {
    "name": "ipython",
    "version": 3
   },
   "file_extension": ".py",
   "mimetype": "text/x-python",
   "name": "python",
   "nbconvert_exporter": "python",
   "pygments_lexer": "ipython3",
   "version": "3.8.8"
  }
 },
 "nbformat": 4,
 "nbformat_minor": 4
}
